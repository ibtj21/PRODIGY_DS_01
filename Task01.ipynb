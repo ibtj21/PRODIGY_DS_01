{
 "cells": [
  {
   "cell_type": "markdown",
   "metadata": {},
   "source": [
    "## ***Distribution of Categorical and Continuous Variables: Visualization***"
   ]
  },
  {
   "cell_type": "markdown",
   "metadata": {},
   "source": [
    "### Introduction to the Dataset\n",
    "\n",
    "The **Adult dataset**, also known as the **Census Income dataset**, was originally collected by the U.S. Census Bureau. It contains demographic information about individuals from the United States, and its primary purpose is to predict whether a person earns more than $50K per year based on various attributes. The data comes from the U.S. Census and includes individuals from different regions across the country, representing a sample of U.S. citizens and reflecting socio-economic trends at the time of data collection.\n",
    "\n",
    "The dataset includes **15 columns** with both categorical and continuous variables that represent key socio-economic characteristics, such as age, education, occupation, marital status, work hours, and other demographic factors.\n",
    "\n",
    "### Aim of the Project\n",
    "\n",
    "The goal of this project is to visualize the distribution of various variables in the Adult dataset. Specifically, we aim to:\n",
    "\n",
    "- Create **bar charts** to visualize the distribution of categorical variables like gender and marital status. These visualizations will help in understanding how different categories of these variables are represented in the dataset.\n",
    "- Create **histograms** to show the distribution of continuous variables like age and hours per week. This will allow us to analyze the spread, central tendencies, and ranges of these variables, providing insights into the general demographic and working patterns of the individuals in the dataset.\n",
    "\n",
    "In this project, we will focus on the following variables:\n",
    "\n",
    "- **Categorical Variables**: Gender, Marital Status\n",
    "- **Continuous Variables**: Age, Hours per Week"
   ]
  },
  {
   "cell_type": "code",
   "execution_count": null,
   "metadata": {
    "vscode": {
     "languageId": "plaintext"
    }
   },
   "outputs": [],
   "source": []
  }
 ],
 "metadata": {
  "kernelspec": {
   "display_name": "Python 3",
   "language": "python",
   "name": "python3"
  },
  "language_info": {
   "codemirror_mode": {
    "name": "ipython",
    "version": 3
   },
   "file_extension": ".py",
   "mimetype": "text/x-python",
   "name": "python",
   "nbconvert_exporter": "python",
   "pygments_lexer": "ipython3",
   "version": "3.12.7"
  }
 },
 "nbformat": 4,
 "nbformat_minor": 2
}
